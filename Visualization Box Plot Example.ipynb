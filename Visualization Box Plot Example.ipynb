{
 "cells": [
  {
   "cell_type": "code",
   "execution_count": 2,
   "metadata": {},
   "outputs": [
    {
     "data": {
      "image/png": "[encoded data removed]",
      "text/plain": [
       "<Figure size 720x504 with 1 Axes>"
      ]
     },
     "metadata": {},
     "output_type": "display_data"
    }
   ],
   "source": [
    "# Import libraries \n",
    "import matplotlib.pyplot as plt \n",
    "import numpy as np \n",
    "  \n",
    "# Creating dataset \n",
    "np.random.seed(10) \n",
    "data_1 = np.random.normal(100, 10, 200) \n",
    "data_2 = np.random.normal(90, 20, 200) \n",
    "data_3 = np.random.normal(80, 30, 200) \n",
    "data_4 = np.random.normal(70, 40, 200) \n",
    "data = [data_1, data_2, data_3, data_4] \n",
    "  \n",
    "fig = plt.figure(figsize =(10, 7)) \n",
    "ax = fig.add_subplot(111) \n",
    "  \n",
    "# Creating axes instance \n",
    "bp = ax.boxplot(data, patch_artist = True, \n",
    "                notch ='True', vert = 0) \n",
    "  \n",
    "colors = ['#0000FF', '#00FF00',  \n",
    "          '#FFFF00', '#FF00FF'] \n",
    "  \n",
    "for patch, color in zip(bp['boxes'], colors): \n",
    "    patch.set_facecolor(color) \n",
    "  \n",
    "# changing color and linewidth of \n",
    "# whiskers \n",
    "for whisker in bp['whiskers']: \n",
    "    whisker.set(color ='#8B008B', \n",
    "                linewidth = 1.5, \n",
    "                linestyle =\":\") \n",
    "  \n",
    "# changing color and linewidth of \n",
    "# caps \n",
    "for cap in bp['caps']: \n",
    "    cap.set(color ='#8B008B', \n",
    "            linewidth = 2) \n",
    "  \n",
    "# changing color and linewidth of \n",
    "# medians \n",
    "for median in bp['medians']: \n",
    "    median.set(color ='red', \n",
    "               linewidth = 3) \n",
    "  \n",
    "# changing style of fliers \n",
    "for flier in bp['fliers']: \n",
    "    flier.set(marker ='D', \n",
    "              color ='#e7298a', \n",
    "              alpha = 0.5) \n",
    "      \n",
    "# x-axis labels \n",
    "ax.set_yticklabels(['data_1', 'data_2',  \n",
    "                    'data_3', 'data_4']) \n",
    "  \n",
    "# Adding title  \n",
    "plt.title(\"Customized box plot\") \n",
    "  \n",
    "# Removing top axes and right axes \n",
    "# ticks \n",
    "ax.get_xaxis().tick_bottom() \n",
    "ax.get_yaxis().tick_left() \n",
    "      \n",
    "# show plot \n",
    "plt.show(bp) "
   ]
  },
  {
   "cell_type": "code",
   "execution_count": null,
   "metadata": {},
   "outputs": [],
   "source": []
  }
 ],
 "metadata": {
  "kernelspec": {
   "display_name": "Python 3",
   "language": "python",
   "name": "python3"
  },
  "language_info": {
   "codemirror_mode": {
    "name": "ipython",
    "version": 3
   },
   "file_extension": ".py",
   "mimetype": "text/x-python",
   "name": "python",
   "nbconvert_exporter": "python",
   "pygments_lexer": "ipython3",
   "version": "3.6.4"
  }
 },
 "nbformat": 4,
 "nbformat_minor": 2
}
