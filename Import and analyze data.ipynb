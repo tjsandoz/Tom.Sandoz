{
 "cells": [
  {
   "cell_type": "markdown",
   "metadata": {},
   "source": [
    "# DSC 540, 7.2 Exercise: Importing, Exploring, and Charting Data\n",
    "\n",
    "\n",
    "\n",
    "There are three parts to the assignment, following chapters nine and ten in the *Data Wrangling with Pythong: Tools to Make Your Life Easier* text. As always, this Notebook starts with reusable elements (e.g., reading data) and works towards the assignment-specific sections."
   ]
  },
  {
   "cell_type": "code",
   "execution_count": null,
   "metadata": {},
   "outputs": [],
   "source": [
    "import xlrd\n",
    "import agate\n",
    "from xlrd.sheet import ctype_text\n",
    "import pprint\n",
    "import matplotlib.pyplot as plt\n",
    "import json"
   ]
  },
  {
   "cell_type": "markdown",
   "metadata": {},
   "source": [
    "## Load the Excel spreadsheet data for the October, 2014 UNICEF data set. \n",
    "In addition to selecting only the country rows (in the Excel spreadsheet, that's rows 7-114), the column titles are read and stripped of any spaces athe beginning or end. Those column titlesa are output for reference.\n",
    "\n",
    "One piece of data cleaning I performed was to add a column title to the empty column. This column contains \"notes\" about the `Total (%)` column."
   ]
  },
  {
   "cell_type": "code",
   "execution_count": 9,
   "metadata": {},
   "outputs": [
    {
     "name": "stdout",
     "output_type": "stream",
     "text": [
      "['Countries and areas',\n",
      " 'Total (%)',\n",
      " 'Notes',\n",
      " 'Sex (%)Male',\n",
      " 'Female',\n",
      " 'Place of residence (%)Urban',\n",
      " 'Rural',\n",
      " 'Household wealth quintile (%)Poorest',\n",
      " 'Second',\n",
      " 'Middle',\n",
      " 'Fourth',\n",
      " 'Richest',\n",
      " 'Reference Year',\n",
      " 'Data Source']\n"
     ]
    }
   ],
   "source": [
    "workbook = xlrd.open_workbook('.unicef_oct_2014.xls')\n",
    "workbook.nsheets\n",
    "\n",
    "sheet = workbook.sheets()[0]\n",
    "title_rows = zip(sheet.row_values(4), sheet.row_values(5))\n",
    "titles = [t[0] + '' + t[1] for t in title_rows]\n",
    "titles = [t.strip() for t in titles]\n",
    "country_rows = [sheet.row_values(r) for r in range(6, 114)]\n",
    "pprint.pprint(titles)"
   ]
  },
  {
   "cell_type": "markdown",
   "metadata": {},
   "source": [
    "## 1. Importing Data\n",
    "Create a function to take an empty list, iterate over the columns and create a full list of all the column types for the dataset. Then load into agate table – make sure to clean the data if you get an error. Follow along with the example in the book on the pages listed."
   ]
  },
  {
   "cell_type": "code",
   "execution_count": 52,
   "metadata": {},
   "outputs": [
    {
     "name": "stdout",
     "output_type": "stream",
     "text": [
      "| Countries and areas  | Total (%) | Notes | Sex (%)Male | Female | Place of residenc... | Rural | ... |\n",
      "| -------------------- | --------- | ----- | ----------- | ------ | -------------------- | ----- | --- |\n",
      "| Afghanistan          |      10.3 |       |        11.0 |    9.6 |                  7.9 |  10.8 | ... |\n",
      "| Albania              |       5.1 | y     |         6.2 |    3.9 |                      |       | ... |\n",
      "| Algeria              |       4.7 | y     |         5.5 |    3.9 |                  3.9 |   5.6 | ... |\n",
      "| Angola               |      23.5 |       |        22.1 |   24.8 |                      |       | ... |\n",
      "| Argentina            |       4.4 |       |         4.8 |    3.9 |                      |       | ... |\n",
      "| Armenia              |       3.9 |       |         4.7 |    2.9 |                  2.4 |   6.0 | ... |\n",
      "| Azerbaijan           |       6.5 | y     |         7.5 |    5.4 |                  2.1 |  10.7 | ... |\n",
      "| Bahrain              |       4.6 |       |         6.3 |    3.0 |                      |       | ... |\n",
      "| Bangladesh           |      12.8 |       |        17.5 |    8.1 |                 11.2 |  13.4 | ... |\n",
      "| Belarus              |       1.4 |       |         1.4 |    1.5 |                  1.3 |   1.8 | ... |\n",
      "| Belize               |       5.8 |       |         6.7 |    5.0 |                  3.2 |   7.4 | ... |\n",
      "| Benin                |      15.3 |       |        14.9 |   15.6 |                 10.5 |  18.1 | ... |\n",
      "| Bhutan               |       2.9 |       |         2.6 |    3.1 |                  1.7 |   3.3 | ... |\n",
      "| Bolivia (Plurinat... |      26.4 | y     |        28.2 |   24.4 |                 15.1 |  64.6 | ... |\n",
      "| Bosnia and Herzeg... |       5.3 |       |         6.6 |    3.9 |                  3.2 |   6.4 | ... |\n",
      "| Botswana             |       9.0 | y     |        10.9 |    7.0 |                 11.3 |  12.6 | ... |\n",
      "| Brazil               |       8.3 | y     |        10.6 |    6.0 |                      |       | ... |\n",
      "| Burkina Faso         |      39.2 |       |        42.3 |   36.0 |                 17.3 |  44.0 | ... |\n",
      "| Burundi              |      26.3 |       |        25.5 |   27.1 |                 14.5 |  27.4 | ... |\n",
      "| Cabo Verde           |       6.4 | y     |             |        |                      |       | ... |\n",
      "| ...                  |       ... | ...   |         ... |    ... |                  ... |   ... | ... |\n"
     ]
    }
   ],
   "source": [
    "text_type = agate.Text()\n",
    "number_type = agate.Number()\n",
    "boolean_type = agate.Boolean()\n",
    "date_type = agate.Date()\n",
    "example_row = sheet.row(6)\n",
    "\n",
    "# Set the data types based on a single example row, since all rows are the same.\n",
    "types = []\n",
    "for v in row:\n",
    "    value_type = ctype_text[v.ctype]\n",
    "    if value_type == 'text':\n",
    "        types.append(text_type)\n",
    "    elif value_type == 'number':\n",
    "        types.append(number_type)\n",
    "    elif value_type == 'xldate':\n",
    "        types.append(date_type)\n",
    "    else:\n",
    "        types.append( text_type)\n",
    "return types\n",
    "\n",
    "def remove_bad_chars(val):\n",
    "    if val == '-':\n",
    "        return None\n",
    "    return val\n",
    "\n",
    "def get_new_array(old_array, function_to_clean):\n",
    "    new_arr = []\n",
    "    for row in old_array:\n",
    "        cleaned_row = [function_to_clean(rv) for rv in row]\n",
    "        new_arr.append(cleaned_row)\n",
    "    return new_arr\n",
    "\n",
    "cleaned_rows = get_new_array(country_rows, remove_bad_chars)\n",
    "\n",
    "table = agate.Table(cleaned_rows, titles, types)\n",
    "table.print_table(max_columns=7)"
   ]
  },
  {
   "cell_type": "markdown",
   "metadata": {},
   "source": [
    "## 2. Exploring Table Functions \n",
    "### a. Which countries have the highest rates of child labor?"
   ]
  },
  {
   "cell_type": "code",
   "execution_count": 54,
   "metadata": {},
   "outputs": [
    {
     "name": "stdout",
     "output_type": "stream",
     "text": [
      "Somalia 49.0\n",
      "Cameroon 41.7\n",
      "Zambia 40.6\n",
      "Burkina Faso 39.2\n",
      "Guinea-Bissau 38.0\n",
      "Ghana 33.9\n",
      "Nepal 33.9\n",
      "Peru 33.5\n",
      "Niger 30.5\n",
      "Central African Republic 28.5\n"
     ]
    }
   ],
   "source": [
    "############ Part a ################\n",
    "high_rates = table.order_by('Total (%)', reverse=True).limit(10)\n",
    "for r in high_rates.rows:\n",
    "    print(r['Countries and areas'],r['Total (%)'])"
   ]
  },
  {
   "cell_type": "markdown",
   "metadata": {},
   "source": [
    "### b. Which countries have the most girls working?"
   ]
  },
  {
   "cell_type": "code",
   "execution_count": 22,
   "metadata": {},
   "outputs": [
    {
     "name": "stdout",
     "output_type": "stream",
     "text": [
      "Somalia: 53.6%\n",
      "Cameroon: 40.2%\n",
      "Zambia: 39.5%\n",
      "Nepal: 37.8%\n",
      "Guinea-Bissau: 36.4%\n",
      "Peru: 36.3%\n",
      "Burkina Faso: 36.0%\n",
      "Ghana: 34.0%\n",
      "Rwanda: 30.4%\n",
      "Niger: 30.1%\n"
     ]
    }
   ],
   "source": [
    "############ Part b ################\n",
    "female_data = table.where(lambda r: r['Female'] is not None)\n",
    "most_females = female_data.order_by('Female', reverse=True).limit(10)\n",
    "for r in most_females.rows:\n",
    "    print('{}: {}%'.format(r['Countries and areas'], r['Female']))"
   ]
  },
  {
   "cell_type": "markdown",
   "metadata": {},
   "source": [
    "### c. What is the average percentage of child labor in cities?"
   ]
  },
  {
   "cell_type": "code",
   "execution_count": 44,
   "metadata": {},
   "outputs": [
    {
     "name": "stdout",
     "output_type": "stream",
     "text": [
      "Average percentage of child labor in cities: 10.41%\n"
     ]
    }
   ],
   "source": [
    "############ Part c ################\n",
    "has_poor = table.where(lambda r: r['Place of residence (%)Urban'] is not None)\n",
    "avg_percent = has_poor.aggregate(agate.Mean('Place of residence (%)Urban'))\n",
    "print('Average percentage of child labor in cities: {}%'.format(round(avg_percent, 2)))"
   ]
  },
  {
   "cell_type": "markdown",
   "metadata": {},
   "source": [
    "### d. Find a row with more than 50% of rural child labor."
   ]
  },
  {
   "cell_type": "code",
   "execution_count": 47,
   "metadata": {},
   "outputs": [
    {
     "name": "stdout",
     "output_type": "stream",
     "text": [
      "The first row with > 50% rural child labor is Bolivia (Plurinational State of)\n"
     ]
    }
   ],
   "source": [
    "############ Part d ################\n",
    "has_poor = table.where(lambda r: r['Rural'] is not None)\n",
    "first_match = has_poor.find(lambda x: x['Rural'] > 50)\n",
    "print('The first row with > 50% rural child labor is', first_match['Countries and areas'])"
   ]
  },
  {
   "cell_type": "markdown",
   "metadata": {},
   "source": [
    "### e. Rank the worst offenders in terms of child labor percentages by country."
   ]
  },
  {
   "cell_type": "code",
   "execution_count": 49,
   "metadata": {},
   "outputs": [
    {
     "name": "stdout",
     "output_type": "stream",
     "text": [
      "1 \t Somalia 49.0\n",
      "2 \t Cameroon 41.7\n",
      "3 \t Zambia 40.6\n",
      "4 \t Burkina Faso 39.2\n",
      "5 \t Guinea-Bissau 38.0\n",
      "6 \t Ghana 33.9\n",
      "6 \t Nepal 33.9\n",
      "8 \t Peru 33.5\n",
      "9 \t Niger 30.5\n",
      "10 \t Central African Republic 28.5\n",
      "10 \t Rwanda 28.5\n",
      "12 \t Guinea 28.3\n",
      "12 \t Togo 28.3\n",
      "14 \t Equatorial Guinea 27.8\n",
      "15 \t Paraguay 27.6\n",
      "16 \t Ethiopia 27.4\n",
      "17 \t Bolivia (Plurinational State of) 26.4\n",
      "17 \t Côte d'Ivoire 26.4\n",
      "19 \t Burundi 26.3\n",
      "20 \t Chad 26.1\n"
     ]
    }
   ],
   "source": [
    "############ Part e ################\n",
    "ranked = table.compute([('Total Child Labor Rank', agate.Rank('Total (%)', reverse=True)), ])\n",
    "for row in ranked.order_by('Total (%)', reverse=True).limit(20).rows:\n",
    "    print(row['Total Child Labor Rank'], '\\t', row['Countries and areas'], row['Total (%)'])"
   ]
  },
  {
   "cell_type": "markdown",
   "metadata": {},
   "source": [
    "### f. Calculate the percentage of children not involved in child labor."
   ]
  },
  {
   "cell_type": "code",
   "execution_count": 67,
   "metadata": {},
   "outputs": [
    {
     "name": "stdout",
     "output_type": "stream",
     "text": [
      "The total % of children not working is 85.22% \n",
      "\n",
      "The best countries for children not working are:\n",
      "Trinidad and Tobago 0.7 99.3\n",
      "Romania 0.9 99.1\n",
      "Belarus 1.4 98.6\n",
      "Jordan 1.6 98.4\n",
      "Lebanon 1.9 98.1\n",
      "Tunisia 2.1 97.9\n",
      "Kazakhstan 2.2 97.8\n",
      "Ukraine 2.4 97.6\n",
      "Bhutan 2.9 97.1\n",
      "Jamaica 3.3 96.7\n",
      "Portugal 3.4 96.6\n",
      "Kyrgyzstan 3.6 96.4\n",
      "Armenia 3.9 96.1\n",
      "Saint Lucia 3.9 96.1\n",
      "Syrian Arab Republic 4.0 96.0\n",
      "Costa Rica 4.1 95.9\n",
      "Suriname 4.1 95.9\n",
      "Timor-Leste 4.2 95.8\n",
      "Argentina 4.4 95.6\n",
      "Serbia 4.4 95.6\n"
     ]
    }
   ],
   "source": [
    "############ Part f ################\n",
    "def reverse_percent(row):\n",
    "    return 100 - row['Total (%)']\n",
    "\n",
    "ranked = table.compute([('Children not working (%)', agate.Formula(number_type, reverse_percent)),])\n",
    "ranked = ranked.compute([('Total Child Labor Rank', agate.Rank('Children not working (%)')),])\n",
    "percent_not_working = ranked.aggregate(agate.Mean('Children not working (%)'))\n",
    "print('The total % of children not working is {}%'.format(round(percent_not_working, 2)), '\\n')\n",
    "\n",
    "print('The best countries for children not working are:')\n",
    "for row in ranked.order_by('Total (%)', reverse=False).limit(20).rows:\n",
    "    print(row['Countries and areas'], row['Total (%)'], row['Children not working (%)'])"
   ]
  },
  {
   "cell_type": "markdown",
   "metadata": {},
   "source": [
    "## 3. Charting with matplotlib\n",
    "### a. Chart the perceived corruption scores compared to the child labor percentages.\n",
    "Have to setup some data before charting."
   ]
  },
  {
   "cell_type": "code",
   "execution_count": 72,
   "metadata": {},
   "outputs": [
    {
     "data": {
      "image/png": "[encoded data removed]",
      "text/plain": [
       "<Figure size 432x288 with 1 Axes>"
      ]
     },
     "metadata": {
      "needs_background": "light"
     },
     "output_type": "display_data"
    }
   ],
   "source": [
    "def float_to_str(float):\n",
    "    return str(float)\n",
    "\n",
    "def get_table(new_arr, types, titles):\n",
    "    try:\n",
    "        table = agate.Table(new_arr, titles, types)\n",
    "        return table\n",
    "    except Exception as e:\n",
    "        print(e)\n",
    "        \n",
    "def get_types(row):\n",
    "    types = []\n",
    "    for v in row:\n",
    "        value_type = ctype_text[v.ctype]\n",
    "        if value_type == 'text':\n",
    "            types.append(text_type)\n",
    "        elif value_type == 'number':\n",
    "            types.append(number_type)\n",
    "        elif value_type == 'xldate':\n",
    "            types.append(date_type)\n",
    "        else:\n",
    "            types.append( text_type)\n",
    "    return types\n",
    "        \n",
    "cpi_workbook = xlrd.open_workbook('../Pycharm/data/corruption_perception_index.xls')\n",
    "cpi_sheet = cpi_workbook.sheets()[0]\n",
    "for r in range(cpi_sheet.nrows):\n",
    "    #print(r, cpi_sheet.row_values(r))\n",
    "    cpi_title_rows = zip(cpi_sheet.row_values(1), cpi_sheet.row_values(2))\n",
    "    cpi_titles = [t[0] + '' + t[1] for t in cpi_title_rows]\n",
    "    cpi_titles = [t.strip() for t in cpi_titles]\n",
    "    cpi_rows = [cpi_sheet.row_values(r) for r in range(3, cpi_sheet.nrows)]\n",
    "    cpi_types = get_types(cpi_sheet.row(3))\n",
    "\n",
    "def get_table(new_arr, types, titles):\n",
    "    try:\n",
    "        table = agate.Table(new_arr, titles, types)\n",
    "        return table\n",
    "    except Exception as e:\n",
    "        print(e)\n",
    "\n",
    "cpi_titles[0] = cpi_titles[0] + ' Duplicate'\n",
    "\n",
    "cpi_table = get_table(cpi_rows, cpi_types, cpi_titles)\n",
    "cpi_rows = get_new_array(cpi_rows, float_to_str)\n",
    "cpi_table = get_table(cpi_rows, cpi_types, cpi_titles)\n",
    "\n",
    "cpi_and_cl = cpi_table.join(ranked, 'Country / Territory', 'Countries and areas', inner=True)\n",
    "\n",
    "# Here is the actual plot code\n",
    "plt.plot(cpi_and_cl.columns['CPI 2013 Score'], cpi_and_cl.columns['Total (%)'])\n",
    "plt.xlabel('CPI Score - 2013')\n",
    "plt.ylabel('Child Labor Percentage')\n",
    "plt.title('CPI & Child Labor Correlation')\n",
    "plt.show()"
   ]
  },
  {
   "cell_type": "markdown",
   "metadata": {},
   "source": [
    "### b. Chart the perceived corruption scores compared to the child labor percentages using only the worst offenders."
   ]
  },
  {
   "cell_type": "code",
   "execution_count": 73,
   "metadata": {},
   "outputs": [
    {
     "data": {
      "image/png": "[encoded data removed]",
      "text/plain": [
       "<Figure size 432x288 with 1 Axes>"
      ]
     },
     "metadata": {
      "needs_background": "light"
     },
     "output_type": "display_data"
    }
   ],
   "source": [
    "cl_mean = cpi_and_cl.aggregate(agate.Mean('Total (%)'))\n",
    "cpi_mean = cpi_and_cl.aggregate(agate.Mean('CPI 2013 Score'))\n",
    "\n",
    "def highest_rates(row):\n",
    "    if row['Total (%)'] > cl_mean and row['CPI 2013 Score'] < cpi_mean:\n",
    "        return True\n",
    "    return False\n",
    "\n",
    "highest_cpi_cl = cpi_and_cl.where(lambda x: highest_rates(x))\n",
    "\n",
    "# Here is the actual plot code\n",
    "plt.plot(highest_cpi_cl.columns['CPI 2013 Score'], highest_cpi_cl.columns['Total (%)'])\n",
    "plt.xlabel('CPI Score - 2013')\n",
    "plt.ylabel('Child Labor Percentage')\n",
    "plt.title('CPI & Child Labor Correlation')\n",
    "plt.show()\n"
   ]
  }
 ],
 "metadata": {
  "kernelspec": {
   "display_name": "Python 3",
   "language": "python",
   "name": "python3"
  },
  "language_info": {
   "codemirror_mode": {
    "name": "ipython",
    "version": 3
   },
   "file_extension": ".py",
   "mimetype": "text/x-python",
   "name": "python",
   "nbconvert_exporter": "python",
   "pygments_lexer": "ipython3",
   "version": "3.6.4"
  }
 },
 "nbformat": 4,
 "nbformat_minor": 2
}
